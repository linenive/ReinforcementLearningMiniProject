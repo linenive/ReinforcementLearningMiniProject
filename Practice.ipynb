{
 "cells": [
  {
   "cell_type": "code",
   "execution_count": 1,
   "metadata": {},
   "outputs": [
    {
     "ename": "",
     "evalue": "",
     "output_type": "error",
     "traceback": [
      "\u001b[1;31m현재 셀 또는 이전 셀에서 코드를 실행하는 동안 Kernel이 충돌했습니다. \n",
      "\u001b[1;31m셀의 코드를 검토하여 가능한 오류 원인을 식별하세요. \n",
      "\u001b[1;31m자세한 내용을 보려면 <a href='https://aka.ms/vscodeJupyterKernelCrash'>여기</a>를 클릭하세요. \n",
      "\u001b[1;31m자세한 내용은 Jupyter <a href='command:jupyter.viewOutput'>로그</a>를 참조하세요."
     ]
    }
   ],
   "source": [
    "import gymnasium as gym\n",
    "env = gym.make(\"CartPole-v1\", render_mode=\"human\")\n",
    "\n",
    "observation, info = env.reset(seed=42)\n",
    "for _ in range(1000):\n",
    "    action = env.action_space.sample()\n",
    "    observation, reward, terminated, truncated, info = env.step(action)\n",
    "\n",
    "    if terminated or truncated:\n",
    "        observation, info = env.reset()\n",
    "env.close()"
   ]
  },
  {
   "cell_type": "code",
   "execution_count": 7,
   "metadata": {},
   "outputs": [
    {
     "data": {
      "text/plain": [
       "dict_keys(['CartPole-v0', 'CartPole-v1', 'MountainCar-v0', 'MountainCarContinuous-v0', 'Pendulum-v1', 'Acrobot-v1', 'phys2d/CartPole-v0', 'phys2d/CartPole-v1', 'phys2d/Pendulum-v0', 'LunarLander-v2', 'LunarLanderContinuous-v2', 'BipedalWalker-v3', 'BipedalWalkerHardcore-v3', 'CarRacing-v2', 'Blackjack-v1', 'FrozenLake-v1', 'FrozenLake8x8-v1', 'CliffWalking-v0', 'Taxi-v3', 'tabular/Blackjack-v0', 'tabular/CliffWalking-v0', 'Reacher-v2', 'Reacher-v4', 'Pusher-v2', 'Pusher-v4', 'InvertedPendulum-v2', 'InvertedPendulum-v4', 'InvertedDoublePendulum-v2', 'InvertedDoublePendulum-v4', 'HalfCheetah-v2', 'HalfCheetah-v3', 'HalfCheetah-v4', 'Hopper-v2', 'Hopper-v3', 'Hopper-v4', 'Swimmer-v2', 'Swimmer-v3', 'Swimmer-v4', 'Walker2d-v2', 'Walker2d-v3', 'Walker2d-v4', 'Ant-v2', 'Ant-v3', 'Ant-v4', 'Humanoid-v2', 'Humanoid-v3', 'Humanoid-v4', 'HumanoidStandup-v2', 'HumanoidStandup-v4', 'GymV21Environment-v0', 'GymV26Environment-v0'])"
      ]
     },
     "execution_count": 7,
     "metadata": {},
     "output_type": "execute_result"
    }
   ],
   "source": [
    "# 내가 만들 수 있는 모든 환경 보기\n",
    "gym.envs.registry.keys()"
   ]
  },
  {
   "cell_type": "code",
   "execution_count": 3,
   "metadata": {},
   "outputs": [
    {
     "data": {
      "text/plain": [
       "(8,)"
      ]
     },
     "execution_count": 3,
     "metadata": {},
     "output_type": "execute_result"
    }
   ],
   "source": [
    "import gymnasium as gym\n",
    "\n",
    "# 'render_mode'는 환경을 시각화하는 방법을 지정합니다.\n",
    "# 참고: https://gymnasium.farama.org/tutorials/gymnasium_basics/environment_creation/#rendering\n",
    "env = gym.make(\"LunarLander-v2\", render_mode=\"human\")\n",
    "observation, info = env.reset()\n",
    "\n",
    "for _ in range(1000):\n",
    "    action = env.action_space.sample()  # 환경 내 변화를 일으키는 동작 수행.\n",
    "    # 업데이트된 환경에서 새로운 관찰 결과를 얻는다.\n",
    "    observation, reward, terminated, truncated, info = env.step(action)\n",
    "\n",
    "    # 환경이 종료될 수 있다. 에이전트가 충돌했거나 또는 에이전트가 보상을 받아 끝난 경우 등.\n",
    "    # 환경을 다시 시작하기 위해서는 'reset'을 호출해야 할 것이다.\n",
    "    if terminated or truncated:\n",
    "        observation, info = env.reset()\n",
    "\n",
    "env.close()"
   ]
  },
  {
   "cell_type": "markdown",
   "metadata": {},
   "source": [
    "문제 해결 과정 메모\n",
    "- ModuleNotFoundError: No module named 'Box2D'\n",
    "- https://stackoverflow.com/questions/51811263/problems-pip-installing-box2d/52572657\n",
    "\n",
    "- brew install swig\n",
    "- pip install box2d-py\n",
    "- pip install box2d"
   ]
  },
  {
   "cell_type": "markdown",
   "metadata": {},
   "source": [
    "문제 해결 2\n",
    "- AttributeError: module '_Box2D' has no attribute 'RAND_LIMIT_swigconstant'\n",
    "- https://stackoverflow.com/questions/50037674/attributeerror-module-box2d-has-no-attribute-rand-limit-swigconstant\n",
    "\n",
    "pip3 install box2d box2d-kengz"
   ]
  },
  {
   "cell_type": "markdown",
   "metadata": {},
   "source": [
    "# 액션과 환경 관찰\n",
    "\n",
    "모든 환경에는 action_space 및 observation_space 속성이 있어야 한다. 이 두 가지 속성은 Space를 상속하는 클래스의 인스턴스여야 한다.\n",
    "- Box: n차원 연속 공간. 관찰할 수 있는 상, 하한을 정의할 수 있다.\n",
    "- Discrete: {0, 1, …, n-1} 와 같이 불연속적인 공간. 선택 인수로 값을 {a, a+1, …, a+n-1}로 이동 가능.\n",
    "- Dictionary\n",
    "- Tuple\n",
    "- MultiBinary: n-shape 이진 공간을 만든다. 인자 n은 숫자일 수도 있고 숫자 목록일 수도 있다.\n",
    "- MultiDiscrete: 각 요소의 액션 수가 다른 일련의 이산 액션 스페이스로 구성된다. 음...\n",
    "\n",
    "### Space\n",
    "관찰 및 액션 공간을 정의하는 데 사용되는 슈퍼클래스.\n",
    "서로 다른 공간을 계층적으로 결합하여 보다 표현력 있는 공간을 만들 수 있다.\n",
    "공간을 벡터화하는 유용한 유틸리티들을 제공하는 듯하다.\n",
    "\n",
    "더 자세한 정보: https://gymnasium.farama.org/api/spaces/"
   ]
  },
  {
   "cell_type": "markdown",
   "metadata": {},
   "source": [
    "# 환경 수정\n",
    "\n",
    "### 래퍼 사용\n",
    "기존에 준비된 환경들의 코드를 변경하지 않고도 편리하게 환경의 수정이 가능."
   ]
  },
  {
   "cell_type": "code",
   "execution_count": 5,
   "metadata": {},
   "outputs": [
    {
     "name": "stdout",
     "output_type": "stream",
     "text": [
      "False\n",
      "True\n",
      "True\n"
     ]
    }
   ],
   "source": [
    "import torch\n",
    "print(torch.cuda.is_available())\n",
    "print(torch.backends.mps.is_built())\n",
    "print(torch.backends.mps.is_available())"
   ]
  }
 ],
 "metadata": {
  "kernelspec": {
   "display_name": "Python 3",
   "language": "python",
   "name": "python3"
  },
  "language_info": {
   "codemirror_mode": {
    "name": "ipython",
    "version": 3
   },
   "file_extension": ".py",
   "mimetype": "text/x-python",
   "name": "python",
   "nbconvert_exporter": "python",
   "pygments_lexer": "ipython3",
   "version": "3.11.9"
  }
 },
 "nbformat": 4,
 "nbformat_minor": 2
}
